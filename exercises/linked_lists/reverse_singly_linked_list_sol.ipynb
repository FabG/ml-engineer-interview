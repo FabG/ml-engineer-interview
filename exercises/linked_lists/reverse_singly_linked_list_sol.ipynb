{
 "cells": [
  {
   "cell_type": "markdown",
   "metadata": {},
   "source": [
    "# Reverse a Singly Linked List\n",
    "\n",
    "Reverse the singly linked list and return the pointer/reference to the head of the reversed linked list.\n"
   ]
  },
  {
   "cell_type": "markdown",
   "metadata": {},
   "source": [
    "We’re given the pointer/reference to the head of a singly linked list, reverse it and return the pointer/reference to the head of the reversed linked list.\n",
    "\n",
    "Consider the following linked list:\n",
    "\n",
    "![original list](images/original_list.png)\n",
    "\n",
    "Return the pointer to the reversed linked list as shown in the figure:\n",
    "\n",
    "![reversed list](images/reversed_list.png)\n"
   ]
  },
  {
   "cell_type": "markdown",
   "metadata": {},
   "source": [
    "Structure:\n",
    "    \n",
    "`LinkedListNode` has two items:\n",
    "- Data of type: Integer\n",
    "- A pointer/reference to the next node\n",
    "\n",
    "Hints:\n",
    "- Think of doing this iteratively in a single pass.\n",
    "- Think of doing this recursively in a single pass."
   ]
  },
  {
   "cell_type": "code",
   "execution_count": 2,
   "metadata": {},
   "outputs": [],
   "source": [
    "class LinkedListNode:\n",
    "    def __init__(self, data):\n",
    "        self.data = data\n",
    "        self.next = None\n",
    "        self.prev = None\n",
    "        self.arbitrary = None"
   ]
  },
  {
   "cell_type": "code",
   "execution_count": 1,
   "metadata": {},
   "outputs": [],
   "source": [
    "import random\n",
    "\n",
    "def insert_at_head(head, data):\n",
    "    newNode = LinkedListNode(data)\n",
    "    newNode.next = head\n",
    "    return newNode\n",
    "\n",
    "def insert_at_tail(head, node):\n",
    "    if head is None:\n",
    "        return node\n",
    "    \n",
    "    temp = head;\n",
    "\n",
    "    while temp.next:\n",
    "        temp = temp.next\n",
    "\n",
    "    temp.next = node;\n",
    "    return head\n",
    "\n",
    "def create_random_list(length):\n",
    "    list_head = None\n",
    "    for i in range(0, length):\n",
    "        list_head = insert_at_head(list_head, random.randrange(1, 100))\n",
    "    return list_head\n",
    "\n",
    "def create_linked_list(lst):\n",
    "    list_head = None\n",
    "    for x in reversed(lst):\n",
    "        list_head = insert_at_head(list_head, x)\n",
    "    return list_head\n",
    "\n",
    "def display(head):\n",
    "    temp = head\n",
    "    while temp:\n",
    "        print(str(temp.data),end=\"\")\n",
    "        temp = temp.next\n",
    "    if temp:\n",
    "        print(\", \", end=\"\")\n",
    "    print()\n",
    "    return\n",
    "\n",
    "class pair:\n",
    "    def __init__(self, first, second):\n",
    "        self.first = first\n",
    "        self.second = second"
   ]
  },
  {
   "cell_type": "code",
   "execution_count": 1,
   "metadata": {},
   "outputs": [],
   "source": [
    "\n",
    "def reverse(head):\n",
    "    reversed_list = head\n",
    "    #TODO: Write - Your - Code\n",
    "    return reversed_list"
   ]
  },
  {
   "cell_type": "markdown",
   "metadata": {},
   "source": [
    "### Solution 1 (iterative)"
   ]
  },
  {
   "cell_type": "markdown",
   "metadata": {},
   "source": [
    "Runtime complexity:\n",
    "    \n",
    "The runtime complexity of this solution is linear, O(n), as we can reverse the linked list in a single pass.\n",
    "\n",
    "Memory complexity:\n",
    "    \n",
    "The memory complexity of this solution is constant, O(1), as no extra memory is required for the iterative solution.\n",
    "\n",
    "Let’s see how the solution works:\n",
    "    \n",
    "- If the linked list only contains 0 or 1 nodes, then the current list can be returned as it is. \n",
    "- If there are two or more nodes, then the iterative solution starts with two pointers:\n",
    " - `reversed_list`: A pointer to already reversed linked list (initialized to head).\n",
    " - `list_to_do`: A pointer to the remaining list (initialized to head->next).\n",
    " \n",
    "We then set the `reversed_list->next` to `NULL`. This becomes the last node in the reversed linked list. \n",
    "`reversed_list` will always point to the head of the newly reversed linked list.\n",
    "\n",
    "At each iteration, the `list_to_do` pointer moves forward (until it reaches NULL). The current node becomes the head of the new reversed linked list and starts pointing to the previous head of the reversed linked list.\n",
    "\n",
    "The loop terminates when `list_to_do` becomes NULL, and the reversed_list pointer is pointing to the new head at the termination of the loop."
   ]
  },
  {
   "cell_type": "code",
   "execution_count": 6,
   "metadata": {},
   "outputs": [],
   "source": [
    "def reverse(head):\n",
    "  # no need to reverse if head is null \n",
    "  # or there is only 1 node.\n",
    "    if (head == None or head.next == None):\n",
    "        return head\n",
    "\n",
    "    list_to_do = head.next\n",
    "\n",
    "    reversed_list = head\n",
    "    reversed_list.next = None\n",
    "\n",
    "    while list_to_do != None:\n",
    "        temp = list_to_do\n",
    "        list_to_do = list_to_do.next\n",
    "\n",
    "        temp.next = reversed_list\n",
    "        reversed_list = temp\n",
    "\n",
    "    return reversed_list\n"
   ]
  },
  {
   "cell_type": "code",
   "execution_count": 7,
   "metadata": {},
   "outputs": [
    {
     "name": "stdout",
     "output_type": "stream",
     "text": [
      "Original: 7142128\n",
      "After Reverse: 2821147\n"
     ]
    }
   ],
   "source": [
    "list_head = create_linked_list([7, 14, 21, 28])\n",
    "\n",
    "print(\"Original: \",end=\"\")\n",
    "display(list_head)\n",
    "\n",
    "list_head = reverse(list_head)\n",
    "print(\"After Reverse: \", end=\"\")\n",
    "display(list_head)"
   ]
  },
  {
   "cell_type": "markdown",
   "metadata": {},
   "source": [
    "## Solution 2 (recursive)"
   ]
  },
  {
   "cell_type": "markdown",
   "metadata": {},
   "source": [
    "Runtime complexity:\n",
    "\n",
    "The runtime complexity of this solution is linear, `O(n)`.\n",
    "\n",
    "Memory complexity:\n",
    "\n",
    "The memory complexity of this solution is linear, `O(n)`/\n",
    "\n",
    "Key takeaways: The first thing to remember, is that the recursive version uses the **stack**. OS allocates stack memory, and this solution can run out of memory for very large linked lists (think billions of items).\n",
    "\n",
    "We recursively visit each node in the linked list until we reach the last node. This last node will become the new head of this list. On the return path, each node is going to append itself to the end of the partially reversed linked list.\n",
    "\n",
    "Here’s how recursive reversal works: If you have a reversed linked list of all the nodes to the left of the current node, and you know the last node of the reversed linked list, then inserting the current node as the next to the last node will create the new reversed linked list. Then return the head of the new linked list. The trick here is that you don’t explicitly need to track the last node. The next pointer in the current node is already pointing to the last node in the partially reversed linked list."
   ]
  },
  {
   "cell_type": "code",
   "execution_count": 8,
   "metadata": {},
   "outputs": [],
   "source": [
    "def reverse(head):\n",
    "    # no need to reverse if head is null \n",
    "    # or there is only 1 node.\n",
    "    if (head == None or head.next == None):\n",
    "        return head\n",
    "\n",
    "    reversed_list = reverse(head.next)\n",
    "    head.next.next = head\n",
    "    head.next = None\n",
    "    return reversed_list\n",
    "\n"
   ]
  },
  {
   "cell_type": "code",
   "execution_count": 9,
   "metadata": {},
   "outputs": [
    {
     "name": "stdout",
     "output_type": "stream",
     "text": [
      "Original: 7142128\n",
      "After Reverse: 2821147\n"
     ]
    }
   ],
   "source": [
    "list_head = create_linked_list([7, 14, 21, 28])\n",
    "print (\"Original: \", end=\"\")\n",
    "display(list_head)\n",
    "\n",
    "list_head = reverse(list_head)\n",
    "print(\"After Reverse: \", end=\"\")\n",
    "display(list_head)"
   ]
  },
  {
   "cell_type": "code",
   "execution_count": null,
   "metadata": {},
   "outputs": [],
   "source": []
  }
 ],
 "metadata": {
  "kernelspec": {
   "display_name": "Python 3",
   "language": "python",
   "name": "python3"
  },
  "language_info": {
   "codemirror_mode": {
    "name": "ipython",
    "version": 3
   },
   "file_extension": ".py",
   "mimetype": "text/x-python",
   "name": "python",
   "nbconvert_exporter": "python",
   "pygments_lexer": "ipython3",
   "version": "3.8.3"
  }
 },
 "nbformat": 4,
 "nbformat_minor": 4
}
