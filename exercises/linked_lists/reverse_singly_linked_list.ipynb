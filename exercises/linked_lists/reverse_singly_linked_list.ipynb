{
 "cells": [
  {
   "cell_type": "markdown",
   "metadata": {},
   "source": [
    "# Reverse a Singly Linked List\n",
    "\n",
    "Reverse the singly linked list and return the pointer/reference to the head of the reversed linked list.\n"
   ]
  },
  {
   "cell_type": "markdown",
   "metadata": {},
   "source": [
    "We’re given the pointer/reference to the head of a singly linked list, reverse it and return the pointer/reference to the head of the reversed linked list.\n",
    "\n",
    "Consider the following linked list:\n",
    "\n",
    "![original list](images/original_list.png)\n",
    "\n",
    "Return the pointer to the reversed linked list as shown in the figure:\n",
    "\n",
    "![reversed list](images/reversed_list.png)\n"
   ]
  },
  {
   "cell_type": "markdown",
   "metadata": {},
   "source": [
    "Structure:\n",
    "    \n",
    "`LinkedListNode` has two items:\n",
    "- Data of type: Integer\n",
    "- A pointer/reference to the next node\n",
    "\n",
    "Hints:\n",
    "- Think of doing this iteratively in a single pass.\n",
    "- Think of doing this recursively in a single pass."
   ]
  },
  {
   "cell_type": "code",
   "execution_count": 2,
   "metadata": {},
   "outputs": [],
   "source": [
    "class LinkedListNode:\n",
    "    def __init__(self, data):\n",
    "        self.data = data\n",
    "        self.next = None\n",
    "        self.prev = None\n",
    "        self.arbitrary = None"
   ]
  },
  {
   "cell_type": "code",
   "execution_count": 3,
   "metadata": {},
   "outputs": [],
   "source": [
    "import random\n",
    "\n",
    "def insert_at_head(head, data):\n",
    "    newNode = LinkedListNode(data)\n",
    "    newNode.next = head\n",
    "    return newNode\n",
    "\n",
    "def insert_at_tail(head, node):\n",
    "    if head is None:\n",
    "        return node\n",
    "    \n",
    "    temp = head;\n",
    "\n",
    "    while temp.next:\n",
    "        temp = temp.next\n",
    "\n",
    "    temp.next = node;\n",
    "    return head\n",
    "\n",
    "def create_random_list(length):\n",
    "    list_head = None\n",
    "    for i in range(0, length):\n",
    "        list_head = insert_at_head(list_head, random.randrange(1, 100))\n",
    "    return list_head\n",
    "\n",
    "def create_linked_list(lst):\n",
    "    list_head = None\n",
    "    for x in reversed(lst):\n",
    "        list_head = insert_at_head(list_head, x)\n",
    "    return list_head\n",
    "\n",
    "def display(head):\n",
    "    temp = head\n",
    "    while temp:\n",
    "        print(str(temp.data),end=\"\")\n",
    "        temp = temp.next\n",
    "    if temp:\n",
    "        print(\", \", end=\"\")\n",
    "    print()\n",
    "    return\n",
    "\n",
    "class pair:\n",
    "    def __init__(self, first, second):\n",
    "        self.first = first\n",
    "        self.second = second"
   ]
  },
  {
   "cell_type": "code",
   "execution_count": 4,
   "metadata": {},
   "outputs": [],
   "source": [
    "def reverse(head):\n",
    "    reversed_list = head\n",
    "    #TODO: Write - Your - Code\n",
    "    return reversed_list"
   ]
  },
  {
   "cell_type": "markdown",
   "metadata": {},
   "source": [
    "Click on the link below to access the solution\n",
    "\n",
    "[SOLUTION](reverse_singly_linked_list_sol.ipynb)"
   ]
  },
  {
   "cell_type": "code",
   "execution_count": null,
   "metadata": {},
   "outputs": [],
   "source": []
  }
 ],
 "metadata": {
  "kernelspec": {
   "display_name": "Python 3",
   "language": "python",
   "name": "python3"
  },
  "language_info": {
   "codemirror_mode": {
    "name": "ipython",
    "version": 3
   },
   "file_extension": ".py",
   "mimetype": "text/x-python",
   "name": "python",
   "nbconvert_exporter": "python",
   "pygments_lexer": "ipython3",
   "version": "3.8.3"
  }
 },
 "nbformat": 4,
 "nbformat_minor": 4
}
