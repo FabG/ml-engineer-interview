{
 "cells": [
  {
   "cell_type": "markdown",
   "metadata": {},
   "source": [
    "# Implementation of Linked List\n",
    "\n",
    "Linked list implementation will be covered in this set of notebooks. We'll use this implementation in the whole chapter.\n",
    "\n"
   ]
  },
  {
   "cell_type": "markdown",
   "metadata": {},
   "source": [
    "## Implementation of `LinkedListNode` Class\n"
   ]
  },
  {
   "cell_type": "code",
   "execution_count": 1,
   "metadata": {},
   "outputs": [],
   "source": [
    "class LinkedListNode:\n",
    "    def __init__(self, data):\n",
    "        self.data = data\n",
    "        self.next = None\n",
    "        self.prev = None\n",
    "        self.arbitrary = None"
   ]
  },
  {
   "cell_type": "markdown",
   "metadata": {},
   "source": [
    "## Implementation of `LinkedList` Class\n"
   ]
  },
  {
   "cell_type": "code",
   "execution_count": 3,
   "metadata": {},
   "outputs": [],
   "source": [
    "import random\n",
    "\n",
    "def insert_at_head(head, data):\n",
    "    newNode = LinkedListNode(data)\n",
    "    newNode.next = head\n",
    "    return newNode\n",
    "\n",
    "def insert_at_tail(head, node):\n",
    "    if head is None:\n",
    "        return node\n",
    "    \n",
    "    temp = head;\n",
    "\n",
    "    while temp.next:\n",
    "        temp = temp.next\n",
    "\n",
    "    temp.next = node;\n",
    "    return head\n",
    "\n",
    "def create_random_list(length):\n",
    "    list_head = None\n",
    "    for i in range(0, length):\n",
    "        list_head = insert_at_head(list_head, random.randrange(1, 100))\n",
    "    return list_head\n",
    "\n",
    "def create_linked_list(lst):\n",
    "    list_head = None\n",
    "    for x in reversed(lst):\n",
    "        list_head = insert_at_head(list_head, x)\n",
    "    return list_head\n",
    "\n",
    "def display(head):\n",
    "    temp = head\n",
    "    while temp:\n",
    "        print(str(temp.data),end=\"\")\n",
    "        temp = temp.next\n",
    "    if temp:\n",
    "        print(\", \", end=\"\")\n",
    "    print()\n",
    "    return\n",
    "\n",
    "class pair:\n",
    "    def __init__(self, first, second):\n",
    "        self.first = first\n",
    "        self.second = second"
   ]
  },
  {
   "cell_type": "code",
   "execution_count": null,
   "metadata": {},
   "outputs": [],
   "source": []
  }
 ],
 "metadata": {
  "kernelspec": {
   "display_name": "Python 3",
   "language": "python",
   "name": "python3"
  },
  "language_info": {
   "codemirror_mode": {
    "name": "ipython",
    "version": 3
   },
   "file_extension": ".py",
   "mimetype": "text/x-python",
   "name": "python",
   "nbconvert_exporter": "python",
   "pygments_lexer": "ipython3",
   "version": "3.8.3"
  }
 },
 "nbformat": 4,
 "nbformat_minor": 4
}
