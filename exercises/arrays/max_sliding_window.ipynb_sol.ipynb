{
 "cells": [
  {
   "cell_type": "markdown",
   "metadata": {},
   "source": [
    "# Find Maximum in Sliding Window - Solution\n"
   ]
  },
  {
   "cell_type": "markdown",
   "metadata": {},
   "source": [
    "### 1. First solution"
   ]
  },
  {
   "cell_type": "code",
   "execution_count": 1,
   "metadata": {},
   "outputs": [],
   "source": [
    "def find_max_array(arr, start, end):\n",
    "    max = arr[start]\n",
    "    for i in range(start, end+1):\n",
    "        if arr[i] > max:\n",
    "            max = arr[i]\n",
    "    return max\n",
    "        \n",
    "def find_max_sliding_window(arr, window_size):\n",
    "    result = []\n",
    "    start=0\n",
    "    end=window_size-1\n",
    "    \n",
    "    while end < len(arr):\n",
    "        result.append(find_max_array(arr, start, end))\n",
    "        start += 1\n",
    "        end += 1\n",
    "        \n",
    "    return result"
   ]
  },
  {
   "cell_type": "code",
   "execution_count": 2,
   "metadata": {},
   "outputs": [
    {
     "data": {
      "text/plain": [
       "[3, 4, 5, 6, 7, 8, 9, 10]"
      ]
     },
     "execution_count": 2,
     "metadata": {},
     "output_type": "execute_result"
    }
   ],
   "source": [
    "array = [1, 2, 3, 4, 5, 6, 7, 8, 9, 10]  \n",
    "find_max_sliding_window(array, 3)"
   ]
  },
  {
   "cell_type": "code",
   "execution_count": 3,
   "metadata": {},
   "outputs": [],
   "source": [
    "array = [1, 2, 3, 4, 5, 6, 7, 8, 9, 10]\n",
    "assert(find_max_sliding_window(array, 3) == [3, 4, 5, 6, 7, 8, 9, 10])"
   ]
  },
  {
   "cell_type": "code",
   "execution_count": 4,
   "metadata": {},
   "outputs": [],
   "source": [
    "array = [10, 6, 9, -3, 23, -1, 34, 56, 67, -1, -4, -8, -2, 9, 10, 34, 67]  \n",
    "assert(find_max_sliding_window(array, 3) == [10, 9, 23, 23, 34, 56, 67, 67, 67, -1, -2, 9, 10, 34, 67])"
   ]
  },
  {
   "cell_type": "code",
   "execution_count": 5,
   "metadata": {},
   "outputs": [],
   "source": [
    "array = [-4, 2, -5, 1, -1, 6]  \n",
    "#print(find_max_sliding_window(array, 3))\n",
    "assert(find_max_sliding_window(array, 3) == [2, 2, 1, 6])"
   ]
  },
  {
   "cell_type": "markdown",
   "metadata": {},
   "source": [
    "### 2. other solution\n",
    "Runtime Complexity #\n",
    "The runtime complexity of this solution is linear, `O(n)`\n",
    "\n",
    "Every element is pushed and popped from the deque only once in a single traversal.\n",
    "\n",
    "Memory Complexity #\n",
    "The memory complexity of this solution is linear, `O(w)`, where ww is the window size in this case."
   ]
  },
  {
   "cell_type": "code",
   "execution_count": 14,
   "metadata": {},
   "outputs": [],
   "source": [
    "import collections\n",
    "\n",
    "def find_max_sliding_window2(arr, window_size):\n",
    "    result = []\n",
    "\n",
    "    if len(arr) == 0:\n",
    "        return result\n",
    "\n",
    "    if window_size > len(arr):\n",
    "        return result\n",
    "\n",
    "    window = collections.deque()\n",
    "\n",
    "    #find out max for first window\n",
    "    for i in range(0, window_size):\n",
    "        while window and arr[i] >= arr[window[-1]]:\n",
    "            window.pop()\n",
    "        window.append(i)\n",
    "\n",
    "    result.append(arr[window[0]])\n",
    "\n",
    "    for i in range(window_size, len(arr)):\n",
    "        #remove all numbers that are smaller than current number\n",
    "        #from the tail of list\n",
    "        while window and arr[i] >= arr[window[-1]]:\n",
    "            window.pop()\n",
    "\n",
    "        #remove first number if it doesn't fall in the window anymore\n",
    "        if window and (window[0] <= i - window_size) :\n",
    "            window.popleft()\n",
    "\n",
    "        window.append(i)\n",
    "        result.append(arr[window[0]])\n",
    "\n",
    "    return result\n",
    "\n"
   ]
  },
  {
   "cell_type": "code",
   "execution_count": 15,
   "metadata": {},
   "outputs": [
    {
     "name": "stdout",
     "output_type": "stream",
     "text": [
      "Array = [1, 2, 3, 4, 5, 6, 7, 8, 9, 10]\n",
      "Max = [3, 4, 5, 6, 7, 8, 9, 10]\n",
      "Array = [10, 6, 9, -3, 23, -1, 34, 56, 67, -1, -4, -8, -2, 9, 10, 34, 67]\n",
      "Max = [10, 9, 23, 23, 34, 56, 67, 67, 67, -1, -2, 9, 10, 34, 67]\n"
     ]
    }
   ],
   "source": [
    "array = [1, 2, 3, 4, 5, 6, 7, 8, 9, 10]  \n",
    "print (\"Array = \" + str(array))\n",
    "print (\"Max = \" + str(find_max_sliding_window2(array, 3)))\n",
    "\n",
    "array = [10, 6, 9, -3, 23, -1, 34, 56, 67, -1, -4, -8, -2, 9, 10, 34, 67]  \n",
    "print (\"Array = \" + str(array))\n",
    "print (\"Max = \" + str(find_max_sliding_window2(array, 3)))"
   ]
  },
  {
   "cell_type": "code",
   "execution_count": 16,
   "metadata": {},
   "outputs": [],
   "source": [
    "array = [1, 2, 3, 4, 5, 6, 7, 8, 9, 10]\n",
    "assert(find_max_sliding_window2(array, 3) == [3, 4, 5, 6, 7, 8, 9, 10])"
   ]
  },
  {
   "cell_type": "code",
   "execution_count": 17,
   "metadata": {},
   "outputs": [],
   "source": [
    "array = [10, 6, 9, -3, 23, -1, 34, 56, 67, -1, -4, -8, -2, 9, 10, 34, 67]  \n",
    "assert(find_max_sliding_window2(array, 3) == [10, 9, 23, 23, 34, 56, 67, 67, 67, -1, -2, 9, 10, 34, 67])"
   ]
  },
  {
   "cell_type": "code",
   "execution_count": null,
   "metadata": {},
   "outputs": [],
   "source": []
  }
 ],
 "metadata": {
  "kernelspec": {
   "display_name": "Python 3",
   "language": "python",
   "name": "python3"
  },
  "language_info": {
   "codemirror_mode": {
    "name": "ipython",
    "version": 3
   },
   "file_extension": ".py",
   "mimetype": "text/x-python",
   "name": "python",
   "nbconvert_exporter": "python",
   "pygments_lexer": "ipython3",
   "version": "3.8.3"
  }
 },
 "nbformat": 4,
 "nbformat_minor": 4
}
