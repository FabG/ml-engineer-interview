{
 "cells": [
  {
   "cell_type": "markdown",
   "metadata": {},
   "source": [
    "# Rotate an Array by N Elements\n",
    "\n",
    "Given an array of integers, rotate the array by 'N' elements.\n",
    " \n",
    "- For positive values of NN, perform a right rotation.\n",
    "- For negative values of NN, perform a left rotation.\n",
    "\n",
    "Make sure you make changes to the original array.\n"
   ]
  },
  {
   "cell_type": "markdown",
   "metadata": {},
   "source": [
    "### Example\n",
    "Let’s look at the original array below:\n",
    "\n",
    "![array](images/array_rotate_n_1.png)\n",
    "\n",
    "For N = −1 rotation of the original array, a left rotation is performed and the modified array looks like this:\n",
    "\n",
    "![array -1](images/array_rotate_n_2.png)\n",
    "\n",
    "For N = 2 rotation of the original array, a right rotation is performed and the modified array looks like this:\n",
    "\n",
    "![array 2](images/array_rotate_n_3.png)\n"
   ]
  },
  {
   "cell_type": "markdown",
   "metadata": {},
   "source": [
    "### Option 1 - using deepcopy"
   ]
  },
  {
   "cell_type": "code",
   "execution_count": 1,
   "metadata": {},
   "outputs": [],
   "source": [
    "import copy\n",
    "def rotate_array(arr, n):\n",
    "    \n",
    "    arr2 = copy.deepcopy(arr)\n",
    "    for i in range(0, len(arr)-1):\n",
    "        arr[i] = arr2[i-n]\n",
    "        \n",
    "    return -1"
   ]
  },
  {
   "cell_type": "code",
   "execution_count": 2,
   "metadata": {},
   "outputs": [
    {
     "name": "stdout",
     "output_type": "stream",
     "text": [
      "[10, 20, 0, 59, 86, 32, 11, 9, 40, 40]\n"
     ]
    }
   ],
   "source": [
    "arr=[1,10,20,0,59,86,32,11,9,40]\n",
    "     \n",
    "rotate_array(arr, -1)\n",
    "print(arr)"
   ]
  },
  {
   "cell_type": "code",
   "execution_count": 3,
   "metadata": {},
   "outputs": [
    {
     "name": "stdout",
     "output_type": "stream",
     "text": [
      "[9, 40, 1, 10, 20, 0, 59, 86, 32, 40]\n"
     ]
    }
   ],
   "source": [
    "arr=[1,10,20,0,59,86,32,11,9,40]\n",
    "     \n",
    "rotate_array(arr, 2)\n",
    "print(arr)"
   ]
  },
  {
   "cell_type": "markdown",
   "metadata": {},
   "source": [
    "### Option 2 - not using deepcopy\n"
   ]
  },
  {
   "cell_type": "code",
   "execution_count": 4,
   "metadata": {},
   "outputs": [],
   "source": [
    "def rotate_array2(arr, n):\n",
    "    length = len(arr)\n",
    "    \n",
    "    # Let's normalize rotations\n",
    "    # if n > array size or n is negative.\n",
    "    n = n % length\n",
    "    if n < 0:\n",
    "        # calculate the positive rotations needed.\n",
    "        n = n + length\n",
    "  \n",
    "    temp = []\n",
    "    # copy last N elements of array into temp\n",
    "    for i in range(length-n, length):\n",
    "        temp.append(arr[i])\n",
    "\n",
    "    # shift original array\n",
    "    for i in range(length - 1, n-1, -1):\n",
    "        arr[i] = arr[i - n];\n",
    "  \n",
    "    # copy temp into original array\n",
    "    for i in range(n):\n",
    "        arr[i] = temp[i]\n",
    "        \n",
    "    return -1"
   ]
  },
  {
   "cell_type": "code",
   "execution_count": 5,
   "metadata": {},
   "outputs": [
    {
     "name": "stdout",
     "output_type": "stream",
     "text": [
      "Array Before Rotation\n",
      "[1, 10, 20, 0, 59, 86, 32, 11, 9, 40]\n",
      "Array After Rotation\n",
      "[0, 59, 86, 32, 11, 9, 40, 1, 10, 20]\n"
     ]
    }
   ],
   "source": [
    "arr = [1, 10, 20, 0, 59, 86, 32, 11, 9, 40]\n",
    "print(\"Array Before Rotation\")\n",
    "print(arr)\n",
    "\n",
    "rotate_array2(arr, -3)\n",
    "print(\"Array After Rotation\")\n",
    "print(arr)"
   ]
  },
  {
   "cell_type": "code",
   "execution_count": null,
   "metadata": {},
   "outputs": [],
   "source": []
  }
 ],
 "metadata": {
  "kernelspec": {
   "display_name": "Python 3",
   "language": "python",
   "name": "python3"
  },
  "language_info": {
   "codemirror_mode": {
    "name": "ipython",
    "version": 3
   },
   "file_extension": ".py",
   "mimetype": "text/x-python",
   "name": "python",
   "nbconvert_exporter": "python",
   "pygments_lexer": "ipython3",
   "version": "3.8.3"
  }
 },
 "nbformat": 4,
 "nbformat_minor": 4
}
