{
 "cells": [
  {
   "cell_type": "markdown",
   "metadata": {},
   "source": [
    "# Search a Rotated Array - Solution\n",
    "\n",
    "Search for a given number in a sorted array that has been rotated by some arbitrary number.\n",
    "Return -1 if the number does not exist.\n"
   ]
  },
  {
   "cell_type": "markdown",
   "metadata": {},
   "source": [
    "## Solution 1 : recursive\n",
    "\n",
    "Runtime complexity #\n",
    "The runtime complexity of this solution is logarithmic, `O(log n)`.\n",
    "\n",
    "Memory complexity #\n",
    "The memory complexity of this solution is logarithmic, `O(log n)`.\n",
    "\n",
    "The solution is essentially a binary search but with some modifications. If we look at the array in the example closely, we notice that at least one half of the array is always sorted. We can use this property to our advantage. If the number nn lies within the sorted half of the array, then our problem is a basic binary search. Otherwise, discard the sorted half and keep examining the unsorted half. Since we are partitioning the array in half at each step, this gives us O(log \\space n)O(log n) runtime complexity.\n"
   ]
  },
  {
   "cell_type": "code",
   "execution_count": 1,
   "metadata": {},
   "outputs": [],
   "source": [
    "def binary_search(arr, start, end, key):\n",
    "    # assuming all the keys are unique.\n",
    "    \n",
    "    if (start > end):\n",
    "        return -1\n",
    "    \n",
    "    mid = (start + end ) // 2\n",
    "    if arr[mid] == key:\n",
    "        return mid\n",
    "    \n",
    "    if arr[start] <= arr[mid] and key <= arr[mid] and key >= arr[start]:\n",
    "        return binary_search(arr, start, mid - 1, key)\n",
    "    \n",
    "    elif arr[mid] <= arr[end] and key >= arr[mid] and key <= arr[end]:\n",
    "        return binary_search(arr, mid + 1, end, key)\n",
    "    \n",
    "    elif arr[end] <= arr[mid]:\n",
    "        return binary_search(arr, mid + 1, end, key)\n",
    "    \n",
    "    elif arr[start] >= arr[mid]:\n",
    "        return binary_search(arr, start, mid - 1, key)\n",
    "    \n",
    "    return -1\n",
    "\n",
    "def binary_search_rotated(arr, key):\n",
    "    return binary_search(arr, 0, len(arr)-1, key)"
   ]
  },
  {
   "cell_type": "code",
   "execution_count": 2,
   "metadata": {},
   "outputs": [
    {
     "data": {
      "text/plain": [
       "4"
      ]
     },
     "execution_count": 2,
     "metadata": {},
     "output_type": "execute_result"
    }
   ],
   "source": [
    "v1 = [6, 7, 1, 2, 3, 4, 5]\n",
    "binary_search_rotated(v1, 3)"
   ]
  },
  {
   "cell_type": "code",
   "execution_count": 3,
   "metadata": {},
   "outputs": [
    {
     "data": {
      "text/plain": [
       "0"
      ]
     },
     "execution_count": 3,
     "metadata": {},
     "output_type": "execute_result"
    }
   ],
   "source": [
    "binary_search_rotated(v1, 6)"
   ]
  },
  {
   "cell_type": "code",
   "execution_count": 4,
   "metadata": {},
   "outputs": [
    {
     "data": {
      "text/plain": [
       "5"
      ]
     },
     "execution_count": 4,
     "metadata": {},
     "output_type": "execute_result"
    }
   ],
   "source": [
    "v2 = [4, 5, 6, 1, 2, 3];\n",
    "binary_search_rotated(v2, 3)"
   ]
  },
  {
   "cell_type": "code",
   "execution_count": 5,
   "metadata": {},
   "outputs": [
    {
     "data": {
      "text/plain": [
       "2"
      ]
     },
     "execution_count": 5,
     "metadata": {},
     "output_type": "execute_result"
    }
   ],
   "source": [
    "v2 = [4, 5, 6, 1, 2, 3];\n",
    "binary_search_rotated(v2, 6)"
   ]
  },
  {
   "cell_type": "code",
   "execution_count": 6,
   "metadata": {},
   "outputs": [],
   "source": [
    "assert(binary_search_rotated(v1, 3) == 4)\n",
    "assert(binary_search_rotated(v1, 6) == 0)\n",
    "assert(binary_search_rotated(v2, 3) == 5)\n",
    "assert(binary_search_rotated(v2, 6) == 2)"
   ]
  },
  {
   "cell_type": "markdown",
   "metadata": {},
   "source": [
    "## Solution 2: iterative\n",
    "This is an alternate solution.\n",
    "\n",
    "Runtime complexity #\n",
    "The runtime complexity of this solution is logarithmic, `O(log n)`\n",
    "\n",
    "Memory complexity #\n",
    "The memory complexity of this solution is constant, `O(1)`."
   ]
  },
  {
   "cell_type": "code",
   "execution_count": 7,
   "metadata": {},
   "outputs": [],
   "source": [
    "def binary_search_rotated2(arr, key):\n",
    "    # assuming all the keys are unique.\n",
    "    start = 0\n",
    "    end = len(arr) - 1\n",
    "    \n",
    "    if (start > end):\n",
    "        return -1\n",
    "    \n",
    "    while start <= end:\n",
    "        mid = (start + end ) // 2\n",
    "        \n",
    "        if arr[mid] == key:\n",
    "            return mid\n",
    "\n",
    "        if arr[start] <= arr[mid] and key <= arr[mid] and key >= arr[start]:\n",
    "            end = mid - 1\n",
    "\n",
    "        elif arr[mid] <= arr[end] and key >= arr[mid] and key <= arr[end]:\n",
    "            start = mid + 1\n",
    "\n",
    "        elif arr[start] <= arr[mid] and arr[mid] <= arr[end] and key > arr[end]:\n",
    "            start = mid + 1\n",
    "        \n",
    "        elif arr[end] <= arr[mid]:\n",
    "            start = mid +1\n",
    "        \n",
    "        elif arr[start] >= arr[mid]:\n",
    "            end = mid -1\n",
    "        \n",
    "        else:\n",
    "            return -1\n",
    "        \n",
    "    return -1\n"
   ]
  },
  {
   "cell_type": "markdown",
   "metadata": {},
   "source": [
    "This solution works iteratively, and so, the memory complexity of this algorithm comes down to O(1)O(1) even though the logic remains the same."
   ]
  },
  {
   "cell_type": "code",
   "execution_count": 8,
   "metadata": {},
   "outputs": [],
   "source": [
    "assert(binary_search_rotated2(v1, 3) == 4)\n",
    "assert(binary_search_rotated2(v1, 6) == 0)\n",
    "assert(binary_search_rotated2(v2, 3) == 5)\n",
    "assert(binary_search_rotated2(v2, 6) == 2)"
   ]
  },
  {
   "cell_type": "code",
   "execution_count": null,
   "metadata": {},
   "outputs": [],
   "source": []
  }
 ],
 "metadata": {
  "kernelspec": {
   "display_name": "Python 3",
   "language": "python",
   "name": "python3"
  },
  "language_info": {
   "codemirror_mode": {
    "name": "ipython",
    "version": 3
   },
   "file_extension": ".py",
   "mimetype": "text/x-python",
   "name": "python",
   "nbconvert_exporter": "python",
   "pygments_lexer": "ipython3",
   "version": "3.8.3"
  }
 },
 "nbformat": 4,
 "nbformat_minor": 4
}
