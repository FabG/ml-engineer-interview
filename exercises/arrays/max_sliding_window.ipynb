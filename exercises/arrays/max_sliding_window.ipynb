{
 "cells": [
  {
   "cell_type": "markdown",
   "metadata": {},
   "source": [
    "# Find Maximum in Sliding Window\n",
    "Given a large array of integers and a window of size ww, find the current maximum value in the window as the window slides through the entire array.\n"
   ]
  },
  {
   "cell_type": "markdown",
   "metadata": {},
   "source": [
    "Let’s try to find all maximums for a window size equal to 33 in the array given below:\n",
    "\n",
    "![slinding wndow 1](images/sliding_window_1.png)\n",
    "\n",
    "Step 1: For the first 33 elements in the window, max is 22.\n",
    "\n",
    "![slinding wndow 2](images/sliding_window_2.png)\n",
    "\n",
    "Step 2: Slide window one position to the right and max for window becomes 33.\n",
    "\n",
    "![slinding wndow 3](images/sliding_window_3.png)\n",
    "\n",
    "Step 3: In the last window, max is 66.\n",
    "\n",
    "![slinding wndow 4](images/sliding_window_4.png)\n"
   ]
  },
  {
   "cell_type": "markdown",
   "metadata": {},
   "source": [
    "#### Implement the below function"
   ]
  },
  {
   "cell_type": "code",
   "execution_count": 1,
   "metadata": {},
   "outputs": [],
   "source": [
    "def find_max_sliding_window(arr, window_size):\n",
    "    result = []\n",
    "    #Write your code\n",
    "    \n",
    "    return result"
   ]
  },
  {
   "cell_type": "markdown",
   "metadata": {},
   "source": [
    " "
   ]
  },
  {
   "cell_type": "markdown",
   "metadata": {},
   "source": [
    "Click on the link below to access the solution\n",
    "\n",
    "[SOLUTION](max_sliding_window.ipynb_sol.ipynb)"
   ]
  }
 ],
 "metadata": {
  "kernelspec": {
   "display_name": "Python 3",
   "language": "python",
   "name": "python3"
  },
  "language_info": {
   "codemirror_mode": {
    "name": "ipython",
    "version": 3
   },
   "file_extension": ".py",
   "mimetype": "text/x-python",
   "name": "python",
   "nbconvert_exporter": "python",
   "pygments_lexer": "ipython3",
   "version": "3.8.3"
  }
 },
 "nbformat": 4,
 "nbformat_minor": 4
}
