{
 "cells": [
  {
   "cell_type": "markdown",
   "metadata": {},
   "source": [
    "# Implement Binary Search on a Sorted Array - Solution\n",
    "\n",
    "Given a sorted array of integers, return the index of the given key. Return -1 if the key is not found.\n"
   ]
  },
  {
   "cell_type": "markdown",
   "metadata": {},
   "source": [
    "![array_example](images/array_1.png)"
   ]
  },
  {
   "cell_type": "markdown",
   "metadata": {},
   "source": [
    "#### 1. Solution with sequential scan of the array (not optimized)"
   ]
  },
  {
   "cell_type": "code",
   "execution_count": 1,
   "metadata": {},
   "outputs": [],
   "source": [
    "def binary_search(a, key):\n",
    "    for i in range(0, len(a)):\n",
    "        if a[i] == key:\n",
    "            return i\n",
    "    \n",
    "    return -1"
   ]
  },
  {
   "cell_type": "code",
   "execution_count": 2,
   "metadata": {},
   "outputs": [],
   "source": [
    "assert(binary_search([1, 2, 4, 7, 8, 12, 15, 19, 24, 50, 69, 80, 100],12) == 5)"
   ]
  },
  {
   "cell_type": "code",
   "execution_count": 3,
   "metadata": {},
   "outputs": [],
   "source": [
    "assert(binary_search([1, 2, 4, 7, 8, 12, 15, 19, 24, 50, 69, 80, 100],44) == -1)"
   ]
  },
  {
   "cell_type": "markdown",
   "metadata": {},
   "source": [
    "#### 2. Solution with divide and conquer strategy / recursive\n",
    "Runtime complexity #\n",
    "The runtime complexity of this solution is logarithmic, `O(log n)`.\n",
    "\n",
    "Memory complexity #\n",
    "The memory complexity of this solution is logarithmic, `O(log \\n)`.\n",
    "\n",
    "\n",
    "The algorithm divides the input array by half at every step. After every step, either we have found the index that we are looking for or half of the array can be discarded. Hence, the solution can be calculated in O(log \\space n)O(log n) time.\n",
    "\n",
    "Here’s how the algorithm works:\n",
    "- At every step, consider the array between low and high indices\n",
    "- Calculate the mid index.\n",
    "- If the element at the mid index is the key, return mid.\n",
    "- If the element at mid is greater than the key, then change the index high to mid - 1.\n",
    "- The index at low remains the same.\n",
    "- If the element at mid is less than the key, then change low to mid + 1. The index at high remains the same.\n",
    "- When low is greater than high, the key doesn’t exist and -1 is returned.\n"
   ]
  },
  {
   "cell_type": "code",
   "execution_count": 4,
   "metadata": {},
   "outputs": [],
   "source": [
    "def binary_search_rec(a, key, low, high):\n",
    "    if low > high:\n",
    "        return -1\n",
    "    \n",
    "    mid = low + ((high - low) // 2)\n",
    "    if a[mid] == key:\n",
    "        return mid\n",
    "    elif key < a[mid]:\n",
    "        return binary_search_rec(a, key, low, mid - 1)\n",
    "    else:\n",
    "        return binary_search_rec(a, key, mid + 1, high)\n",
    "\n",
    "def binary_search2(a, key):\n",
    "    return binary_search_rec(a, key, 0, len(a) - 1)\n"
   ]
  },
  {
   "cell_type": "code",
   "execution_count": 5,
   "metadata": {},
   "outputs": [
    {
     "name": "stdout",
     "output_type": "stream",
     "text": [
      "binary_search2(arr, 10) = 1\n",
      "binary_search2(arr, 49) = -1\n",
      "binary_search2(arr, 99) = 8\n",
      "binary_search2(arr, 110) = -1\n",
      "binary_search2(arr, 176) = 14\n"
     ]
    }
   ],
   "source": [
    "arr = [1, 10, 20, 47, 59, 63, 75, 88, 99, 107, 120, 133, 155, 162, 176, 188, 199, 200, 210, 222]\n",
    "inputs = [10, 49, 99, 110, 176]\n",
    "\n",
    "for i in range(len(inputs)):\n",
    "    print(\"binary_search2(arr, \" + str(inputs[i])+ \") = \" +  str(binary_search2(arr, inputs[i])))\n"
   ]
  },
  {
   "cell_type": "code",
   "execution_count": 6,
   "metadata": {},
   "outputs": [],
   "source": [
    "assert(binary_search2([1, 2, 4, 7, 8, 12, 15, 19, 24, 50, 69, 80, 100],12) == 5)"
   ]
  },
  {
   "cell_type": "code",
   "execution_count": 7,
   "metadata": {},
   "outputs": [],
   "source": [
    "assert(binary_search2([1, 2, 4, 7, 8, 12, 15, 19, 24, 50, 69, 80, 100],44) == -1)"
   ]
  },
  {
   "cell_type": "markdown",
   "metadata": {},
   "source": [
    " "
   ]
  },
  {
   "cell_type": "markdown",
   "metadata": {},
   "source": [
    "#### 3. Solution with divide and conquer strategy / iterative\n",
    "\n",
    "Runtime complexity #\n",
    "The runtime complexity of this solution is logarithmic, `O(log n)`.\n",
    "\n",
    "Memory complexity #\n",
    "The runtime complexity of this solution is constant, `O(1)`\n",
    "\n",
    "The iterative solution is very similar to the recursive solution. \n"
   ]
  },
  {
   "cell_type": "code",
   "execution_count": 8,
   "metadata": {},
   "outputs": [],
   "source": [
    "def binary_search3(a, key):  \n",
    "    low = 0\n",
    "    high = len(a) - 1\n",
    "    \n",
    "    while low <= high:\n",
    "        mid = low + ((high - low) // 2)\n",
    "        \n",
    "        if a[mid] == key:\n",
    "            return mid\n",
    "        \n",
    "        if key < a[mid]:\n",
    "            high = mid - 1\n",
    "        else:\n",
    "            low = mid + 1\n",
    "  \n",
    "    return -1"
   ]
  },
  {
   "cell_type": "code",
   "execution_count": 9,
   "metadata": {},
   "outputs": [
    {
     "name": "stdout",
     "output_type": "stream",
     "text": [
      "binary_search3(arr, 10) = 1\n",
      "binary_search3(arr, 49) = -1\n",
      "binary_search3(arr, 99) = 8\n",
      "binary_search3(arr, 110) = -1\n",
      "binary_search3(arr, 176) = 14\n"
     ]
    }
   ],
   "source": [
    "arr = [1, 10, 20, 47, 59, 63, 75, 88, 99, 107, 120, 133, 155, 162, 176, 188, 199, 200, 210, 222]\n",
    "inputs = [10, 49, 99, 110, 176]\n",
    "\n",
    "for i in range(len(inputs)):\n",
    "  print(\"binary_search3(arr, \" + str(inputs[i])+ \") = \" + str(binary_search3(arr, inputs[i])))"
   ]
  },
  {
   "cell_type": "code",
   "execution_count": 10,
   "metadata": {},
   "outputs": [],
   "source": [
    "assert(binary_search3([1, 2, 4, 7, 8, 12, 15, 19, 24, 50, 69, 80, 100],12) == 5)"
   ]
  },
  {
   "cell_type": "code",
   "execution_count": 11,
   "metadata": {},
   "outputs": [],
   "source": [
    "assert(binary_search3([1, 2, 4, 7, 8, 12, 15, 19, 24, 50, 69, 80, 100],44) == -1)"
   ]
  },
  {
   "cell_type": "code",
   "execution_count": null,
   "metadata": {},
   "outputs": [],
   "source": []
  }
 ],
 "metadata": {
  "kernelspec": {
   "display_name": "Python 3",
   "language": "python",
   "name": "python3"
  },
  "language_info": {
   "codemirror_mode": {
    "name": "ipython",
    "version": 3
   },
   "file_extension": ".py",
   "mimetype": "text/x-python",
   "name": "python",
   "nbconvert_exporter": "python",
   "pygments_lexer": "ipython3",
   "version": "3.8.3"
  }
 },
 "nbformat": 4,
 "nbformat_minor": 4
}
