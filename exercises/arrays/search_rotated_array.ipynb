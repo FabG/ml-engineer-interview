{
 "cells": [
  {
   "cell_type": "markdown",
   "metadata": {},
   "source": [
    "# Search a Rotated Array\n",
    "\n",
    "Search for a given number in a sorted array that has been rotated by some arbitrary number.\n",
    "Return -1 if the number does not exist.\n"
   ]
  },
  {
   "cell_type": "markdown",
   "metadata": {},
   "source": [
    "Assume that the array does not contain duplicates\n",
    "\n",
    "Below is an original array before rotation:\n",
    "![array_rotate_1](images/array_rotate_1.png)\n",
    "\n",
    "After performing rotation on this array 6 times it changes to:\n",
    "![array_rotate_2](images/array_rotate_2.png)\n",
    "\n",
    "The task is to find a given number in this array.\n",
    "\n",
    "Hints #\n",
    "- Linear search is not an acceptable solution.\n",
    "- Try to solve the problem using binary search.\n"
   ]
  },
  {
   "cell_type": "code",
   "execution_count": 2,
   "metadata": {},
   "outputs": [],
   "source": [
    "def binary_search_rotated(arr, key):\n",
    "    \n",
    "  #TODO: Write - Your - Code\n",
    "  return -1"
   ]
  },
  {
   "cell_type": "code",
   "execution_count": null,
   "metadata": {},
   "outputs": [],
   "source": [
    "assert(binary_search_rotated(v1, 3) == 4)\n",
    "assert(binary_search_rotated(v1, 6) == 0)\n",
    "assert(binary_search_rotated(v2, 3) == 5)\n",
    "assert(binary_search_rotated(v2, 6) == 2)"
   ]
  },
  {
   "cell_type": "markdown",
   "metadata": {},
   "source": [
    "Click on the link below to access the solution\n",
    "\n",
    "[SOLUTION](search_rotated_array_sol.ipynb)\n"
   ]
  },
  {
   "cell_type": "code",
   "execution_count": null,
   "metadata": {},
   "outputs": [],
   "source": []
  }
 ],
 "metadata": {
  "kernelspec": {
   "display_name": "Python 3",
   "language": "python",
   "name": "python3"
  },
  "language_info": {
   "codemirror_mode": {
    "name": "ipython",
    "version": 3
   },
   "file_extension": ".py",
   "mimetype": "text/x-python",
   "name": "python",
   "nbconvert_exporter": "python",
   "pygments_lexer": "ipython3",
   "version": "3.8.3"
  }
 },
 "nbformat": 4,
 "nbformat_minor": 4
}
