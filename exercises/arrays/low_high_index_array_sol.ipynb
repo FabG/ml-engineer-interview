{
 "cells": [
  {
   "cell_type": "markdown",
   "metadata": {},
   "source": [
    "# Find Low/High Index of a Key in a Sorted Array - Solution\n",
    "\n",
    "Given a sorted array of integers, return the low and high index of the given key."
   ]
  },
  {
   "cell_type": "markdown",
   "metadata": {},
   "source": [
    "### Description\n",
    "\n",
    "Given a sorted array of integers, return the low and high index of the given key. You must return -1 if the indexes are not found.\n",
    "\n",
    "The array length can be in the millions with many duplicates.\n",
    "\n",
    "In the following example, according to the the key, the low and high indices would be:\n",
    "\n",
    "- key: 1, low = 0 and high = 0\n",
    "\n",
    "- key: 2, low = 1 and high = 1\n",
    "\n",
    "- key: 5, low = 2 and high = 9\n",
    "\n",
    "- key: 20, low = 10 and high = 10\n",
    "\n",
    "![array](images/array_low_high.png)\n",
    "\n",
    "### Hints\n",
    "Use binary search.\n",
    "\n",
    "For testing of your code, the input array will be:\n",
    "```\n",
    "1, 1, 1, 2, 2, 2, 2, 2, 3, 3, 3, 4, 4, 4, 4, 5, 5, 5, 6, 6, 6, 6, 6, 6\n",
    "```"
   ]
  },
  {
   "cell_type": "markdown",
   "metadata": {},
   "source": [
    "#### Runtime complexity\n",
    "Since we are using binary search, the runtime complexity is logarithmic, O(logn)\n",
    "\n",
    "#### Memory complexity\n",
    "The memory complexity is constant, O(1) since no extra storage is being used.\n",
    "\n",
    "We need to do binary search twice;\n",
    "\n",
    "once for finding the low index.\n",
    "once for finding the high index."
   ]
  },
  {
   "cell_type": "code",
   "execution_count": 1,
   "metadata": {},
   "outputs": [],
   "source": [
    "def find_low_index(arr, key):\n",
    "    low = 0\n",
    "    high = len(arr) - 1\n",
    "    mid = len(arr) // 2\n",
    "    \n",
    "    while low <= high:\n",
    "        mid_elem = arr[mid]\n",
    "        \n",
    "        if mid_elem < key:\n",
    "            low = mid + 1\n",
    "        else:\n",
    "            high = mid - 1\n",
    "        \n",
    "        mid = (low + high) // 2\n",
    "        \n",
    "    if low < len(arr) and arr[low] == key:\n",
    "        return low\n",
    "    \n",
    "    return -1\n",
    "\n",
    "def find_high_index(arr, key):\n",
    "    low = 0\n",
    "    high = len(arr) - 1\n",
    "    mid = len(arr) // 2\n",
    "    \n",
    "    while low <= high:\n",
    "        mid_elem = arr[mid]\n",
    "        \n",
    "        if mid_elem <= key:\n",
    "            low = mid + 1\n",
    "        else:\n",
    "            high = mid - 1\n",
    "        \n",
    "        mid = (low + high) // 2\n",
    "        \n",
    "    if high < len(arr) and arr[high] == key:\n",
    "        return high\n",
    "    \n",
    "    return -1    "
   ]
  },
  {
   "cell_type": "code",
   "execution_count": 2,
   "metadata": {},
   "outputs": [
    {
     "name": "stdout",
     "output_type": "stream",
     "text": [
      "3\n",
      "7\n"
     ]
    }
   ],
   "source": [
    "arr = [1, 1, 1, 2, 2, 2, 2, 2, 3, 3, 3, 4, 4, 4, 4, 5, 5, 5, 6, 6, 6, 6, 6, 6]\n",
    "\n",
    "print(find_low_index(arr, 2))\n",
    "print(find_high_index(arr, 2))"
   ]
  },
  {
   "cell_type": "code",
   "execution_count": null,
   "metadata": {},
   "outputs": [],
   "source": []
  }
 ],
 "metadata": {
  "kernelspec": {
   "display_name": "Python 3",
   "language": "python",
   "name": "python3"
  },
  "language_info": {
   "codemirror_mode": {
    "name": "ipython",
    "version": 3
   },
   "file_extension": ".py",
   "mimetype": "text/x-python",
   "name": "python",
   "nbconvert_exporter": "python",
   "pygments_lexer": "ipython3",
   "version": "3.8.3"
  }
 },
 "nbformat": 4,
 "nbformat_minor": 4
}
