{
 "cells": [
  {
   "cell_type": "markdown",
   "metadata": {},
   "source": [
    "# Find Low/High Index of a Key in a Sorted Array\n",
    "\n",
    "Given a sorted array of integers, return the low and high index of the given key."
   ]
  },
  {
   "cell_type": "markdown",
   "metadata": {},
   "source": [
    "### Description\n",
    "\n",
    "Given a sorted array of integers, return the low and high index of the given key. You must return -1 if the indexes are not found.\n",
    "\n",
    "The array length can be in the millions with many duplicates.\n",
    "\n",
    "In the following example, according to the the key, the low and high indices would be:\n",
    "\n",
    "- key: 1, low = 0 and high = 0\n",
    "\n",
    "- key: 2, low = 1 and high = 1\n",
    "\n",
    "- key: 5, low = 2 and high = 9\n",
    "\n",
    "- key: 20, low = 10 and high = 10\n",
    "\n",
    "![array](images/array_low_high.png)\n",
    "\n",
    "### Hints\n",
    "Use binary search.\n",
    "\n",
    "For testing of your code, the input array will be:\n",
    "```\n",
    "1, 1, 1, 2, 2, 2, 2, 2, 3, 3, 3, 4, 4, 4, 4, 5, 5, 5, 6, 6, 6, 6, 6, 6\n",
    "```"
   ]
  },
  {
   "cell_type": "code",
   "execution_count": 1,
   "metadata": {},
   "outputs": [],
   "source": [
    "def find_low_index(arr, key):\n",
    " #TODO: Write - Your - Code\n",
    "  return -2\n",
    "\n",
    "def find_high_index(arr, key):\n",
    "  #TODO: Write - Your - Code\n",
    "  return -2"
   ]
  },
  {
   "cell_type": "markdown",
   "metadata": {},
   "source": [
    "Click on the link below to access the solution\n",
    "\n",
    "[SOLUTION](smallest_common_number_sol.ipynb)"
   ]
  },
  {
   "cell_type": "code",
   "execution_count": null,
   "metadata": {},
   "outputs": [],
   "source": []
  }
 ],
 "metadata": {
  "kernelspec": {
   "display_name": "Python 3",
   "language": "python",
   "name": "python3"
  },
  "language_info": {
   "codemirror_mode": {
    "name": "ipython",
    "version": 3
   },
   "file_extension": ".py",
   "mimetype": "text/x-python",
   "name": "python",
   "nbconvert_exporter": "python",
   "pygments_lexer": "ipython3",
   "version": "3.8.3"
  }
 },
 "nbformat": 4,
 "nbformat_minor": 4
}
