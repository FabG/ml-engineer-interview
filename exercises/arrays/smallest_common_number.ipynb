{
 "cells": [
  {
   "cell_type": "markdown",
   "metadata": {},
   "source": [
    "# Find the Smallest Common Number"
   ]
  },
  {
   "cell_type": "markdown",
   "metadata": {},
   "source": [
    "Given three integer arrays sorted in ascending order, return the smallest number that is common in all three arrays."
   ]
  },
  {
   "cell_type": "markdown",
   "metadata": {},
   "source": [
    "In the example below, you are given three positive integer arrays which are sorted in ascending order.\n",
    "\n",
    "You have to find the smallest number that is common in all three arrays. Return -1 if the smallest common number is not found.\n",
    "\n",
    "Hint:\n",
    "- Take advantage of the sorted arrays to reduce complexity.\n",
    "- Use three-pointers\n",
    "\n",
    "Let’s look at the three arrays below where `6` is the smallest number that is common in all the arrays:\n",
    "\n",
    "![smallest number arra](images/smallest_number_array.png)"
   ]
  },
  {
   "cell_type": "code",
   "execution_count": 1,
   "metadata": {},
   "outputs": [],
   "source": [
    "def find_least_common_number(a, b, c):\n",
    "   #TODO: Write - Your - Code\n",
    "   return -1"
   ]
  },
  {
   "cell_type": "markdown",
   "metadata": {},
   "source": [
    "Click on the link below to access the solution\n",
    "\n",
    "[SOLUTION](smallest_common_number_sol.ipynb)"
   ]
  },
  {
   "cell_type": "code",
   "execution_count": null,
   "metadata": {},
   "outputs": [],
   "source": []
  }
 ],
 "metadata": {
  "kernelspec": {
   "display_name": "Python 3",
   "language": "python",
   "name": "python3"
  },
  "language_info": {
   "codemirror_mode": {
    "name": "ipython",
    "version": 3
   },
   "file_extension": ".py",
   "mimetype": "text/x-python",
   "name": "python",
   "nbconvert_exporter": "python",
   "pygments_lexer": "ipython3",
   "version": "3.8.3"
  }
 },
 "nbformat": 4,
 "nbformat_minor": 4
}
