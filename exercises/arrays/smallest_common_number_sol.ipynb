{
 "cells": [
  {
   "cell_type": "markdown",
   "metadata": {},
   "source": [
    "# Find the Smallest Common Number - Solution"
   ]
  },
  {
   "cell_type": "markdown",
   "metadata": {},
   "source": [
    "\n",
    "In the example below, you are given three positive integer arrays which are sorted in ascending order.\n",
    "\n",
    "You have to find the smallest number that is common in all three arrays. Return -1 if the smallest common number is not found.\n",
    "\n",
    "Hint:\n",
    "- Take advantage of the sorted arrays to reduce complexity.\n",
    "- Use three-pointers\n",
    "\n",
    "Let’s look at the three arrays below where `6` is the smallest number that is common in all the arrays:\n",
    "\n",
    "![smallest number arra](images/smallest_number_array.png)\n"
   ]
  },
  {
   "cell_type": "markdown",
   "metadata": {},
   "source": [
    "### Solution 1 - not the most effective"
   ]
  },
  {
   "cell_type": "code",
   "execution_count": 11,
   "metadata": {},
   "outputs": [],
   "source": [
    "def find_least_common_number(a, b, c):\n",
    "\n",
    "    pt1 = a[0]\n",
    "    pt2 = b[0]\n",
    "    pt3 = c[0]\n",
    "             \n",
    "    for i in range(0,len(a)-1):\n",
    "        pt1 = a[i]\n",
    "        print('pt1: {}'.format(pt1))\n",
    "        \n",
    "        for j in range(0, len(b)-1):\n",
    "            pt2 = b[j]\n",
    "            print('pt2: {}'.format(pt2))\n",
    "            \n",
    "            for k in range(0, len(c)-1):\n",
    "                pt3 = c[k]\n",
    "                print('pt3: {}'.format(pt3))\n",
    "                \n",
    "                if pt3 >= pt2:\n",
    "                    print('pt3 >= pt 2')\n",
    "                    break\n",
    "                else:\n",
    "                    print('pt3 < pt 2 - continue')\n",
    "            \n",
    "            if pt2 >= pt1:\n",
    "                print('pt2 >= pt 1')\n",
    "                break\n",
    "            else:\n",
    "                print('pt2 < pt 1 - continue')\n",
    "                  \n",
    "        if pt1 == pt2 and pt2 == pt3:\n",
    "            print('pt1 == pt2 == pt3 == {}'.format(pt1))\n",
    "            return pt1\n",
    "                \n",
    "    return -1\n"
   ]
  },
  {
   "cell_type": "code",
   "execution_count": 14,
   "metadata": {},
   "outputs": [
    {
     "name": "stdout",
     "output_type": "stream",
     "text": [
      "pt1: 6\n",
      "pt2: 1\n",
      "pt3: 1\n",
      "pt3 >= pt 2\n",
      "pt2 < pt 1 - continue\n",
      "pt2: 4\n",
      "pt3: 1\n",
      "pt3 < pt 2 - continue\n",
      "pt3: 6\n",
      "pt3 >= pt 2\n",
      "pt2 < pt 1 - continue\n",
      "pt2: 5\n",
      "pt3: 1\n",
      "pt3 < pt 2 - continue\n",
      "pt3: 6\n",
      "pt3 >= pt 2\n",
      "pt2 < pt 1 - continue\n",
      "pt2: 6\n",
      "pt3: 1\n",
      "pt3 < pt 2 - continue\n",
      "pt3: 6\n",
      "pt3 >= pt 2\n",
      "pt2 >= pt 1\n",
      "pt1 == pt2 == pt3 == 6\n"
     ]
    }
   ],
   "source": [
    "v1 = [6, 7, 10, 25, 30, 63, 64]\n",
    "v2 = [1, 4, 5, 6, 7, 8, 50]\n",
    "v3 = [1, 6, 10, 14]\n",
    "\n",
    "assert(find_least_common_number(v1, v2, v3) == 6)"
   ]
  },
  {
   "cell_type": "code",
   "execution_count": 15,
   "metadata": {},
   "outputs": [
    {
     "name": "stdout",
     "output_type": "stream",
     "text": [
      "pt1: 4\n",
      "pt2: 1\n",
      "pt3: 1\n",
      "pt3 >= pt 2\n",
      "pt2 < pt 1 - continue\n",
      "pt2: 4\n",
      "pt3: 1\n",
      "pt3 < pt 2 - continue\n",
      "pt3: 3\n",
      "pt3 < pt 2 - continue\n",
      "pt3: 4\n",
      "pt3 >= pt 2\n",
      "pt2 >= pt 1\n",
      "pt1 == pt2 == pt3 == 4\n"
     ]
    }
   ],
   "source": [
    "v1 = [4, 6, 7, 10, 25, 30, 63, 64]\n",
    "v2 = [1, 4, 5, 6, 7, 8, 50]\n",
    "v3 = [1, 3, 4, 6, 10, 14]\n",
    "\n",
    "assert(find_least_common_number(v1, v2, v3) == 4)"
   ]
  },
  {
   "cell_type": "markdown",
   "metadata": {},
   "source": [
    "### Solution 2 -  more effective\n",
    "Runtime complexity\n",
    "The runtime complexity of the solution is linear, `O(n)`\n",
    "\n",
    "Memory complexity\n",
    "The memory complexity of the solution is constant, `O(1)`\n",
    "\n",
    "We will use three iterators simultaneously to traverse each of the arrays. We can start by traversing the arrays starting from the 0th index, which will have the smallest value of each array.\n",
    "\n",
    "If the values at the array indices pointed to by the three iterators are equal, that’s the solution since that will be the smallest value (as arrays are sorted in ascending order) present in all of the arrays. Then, we’ll return the value.\n",
    "\n",
    "Otherwise, we’ll see which iterator amongst the three points to the smallest value and will increment that iterator so that it will point to the next index.\n",
    "\n",
    "If any of the three iterators reaches the end of the array while we haven’t found the common number, we’ll return -1."
   ]
  },
  {
   "cell_type": "code",
   "execution_count": 20,
   "metadata": {},
   "outputs": [],
   "source": [
    "def find_least_common_number2(a, b, c):\n",
    "    i = 0\n",
    "    j = 0\n",
    "    k = 0\n",
    "    \n",
    "    while i < len(a) and j < len(b) and k < len(c):\n",
    "        if a[i] == b[j] == c[k]:\n",
    "            return a[i]\n",
    "        \n",
    "        # let's increment the iterator for the smallest value\n",
    "        if a[i] <= b[j] and a[i] <= c[k]:\n",
    "            i += 1\n",
    "            \n",
    "        elif b[j] <= a[i] and a[i] and b[j] <= c[k]:\n",
    "            j += 1\n",
    "        \n",
    "        elif c[k] <= a[i] and c[k] <= b[j]:\n",
    "            k += 1\n",
    "        \n",
    "    return -1\n",
    "        "
   ]
  },
  {
   "cell_type": "code",
   "execution_count": 21,
   "metadata": {},
   "outputs": [],
   "source": [
    "v1 = [6, 7, 10, 25, 30, 63, 64]\n",
    "v2 = [1, 4, 5, 6, 7, 8, 50]\n",
    "v3 = [1, 6, 10, 14]\n",
    "\n",
    "assert(find_least_common_number2(v1, v2, v3) == 6)"
   ]
  },
  {
   "cell_type": "code",
   "execution_count": 22,
   "metadata": {},
   "outputs": [],
   "source": [
    "v1 = [4, 6, 7, 10, 25, 30, 63, 64]\n",
    "v2 = [1, 4, 5, 6, 7, 8, 50]\n",
    "v3 = [1, 3, 4, 6, 10, 14]\n",
    "\n",
    "assert(find_least_common_number2(v1, v2, v3) == 4)"
   ]
  },
  {
   "cell_type": "code",
   "execution_count": null,
   "metadata": {},
   "outputs": [],
   "source": []
  }
 ],
 "metadata": {
  "kernelspec": {
   "display_name": "Python 3",
   "language": "python",
   "name": "python3"
  },
  "language_info": {
   "codemirror_mode": {
    "name": "ipython",
    "version": 3
   },
   "file_extension": ".py",
   "mimetype": "text/x-python",
   "name": "python",
   "nbconvert_exporter": "python",
   "pygments_lexer": "ipython3",
   "version": "3.8.3"
  }
 },
 "nbformat": 4,
 "nbformat_minor": 4
}
