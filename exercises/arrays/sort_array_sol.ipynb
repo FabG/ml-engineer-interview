{
 "cells": [
  {
   "cell_type": "markdown",
   "metadata": {},
   "source": [
    "# Sort an Array Using Quicksort Algorithm"
   ]
  },
  {
   "cell_type": "markdown",
   "metadata": {},
   "source": [
    "Given an integer array, sort it in ascending order using quicksort.\n",
    "\n",
    "![sort array](images/sort_array.png)\n",
    "\n",
    "\n",
    "Hints:\n",
    "- Use the divide and conquer strategy.\n",
    "- Use Hoare’s algorithm."
   ]
  },
  {
   "cell_type": "markdown",
   "metadata": {},
   "source": [
    "Quicksort is a divide-and-conquer algorithm. It works by selecting a 'pivot' element from the array and partitioning the other elements into two sub-arrays, according to whether they are less than or greater than the pivot. \n",
    "\n",
    "For this reason, it is sometimes called partition-exchange sort. The sub-arrays are then sorted recursively. This can be done in-place, requiring small additional amounts of memory to perform the sorting.\n",
    "\n",
    "![quick sort](https://upload.wikimedia.org/wikipedia/commons/thumb/6/6a/Sorting_quicksort_anim.gif/220px-Sorting_quicksort_anim.gif)"
   ]
  },
  {
   "cell_type": "markdown",
   "metadata": {},
   "source": [
    "Runtime complexity:\n",
    "\n",
    "The runtime complexity of this solution is linearithmic, O(n log n).\n",
    "\n",
    "Memory complexity:\n",
    "\n",
    "The memory complexity of this solution is logarithmic, O(logn)."
   ]
  },
  {
   "cell_type": "markdown",
   "metadata": {},
   "source": [
    "Here is an overview of how the quicksort algorithm works:\n",
    "\n",
    "- Select a `pivot` element from the array to divide the array into two parts based on the pivot.\n",
    " - We pick the first element as the pivot if we follow Hoare’s algorithm. Another common approach is to select a random element as the pivot.\n",
    "- Reorder the array by comparing with the `pivot` element such that smaller values end up at the left side, and larger values end up at the right side of the pivot.\n",
    "- Now, the pivot element is in its correct sorted position.\n",
    "\n",
    "Applying the above steps, we can recursively sort the sublists on the right and left sides of the pivot.\n",
    "\n"
   ]
  },
  {
   "cell_type": "code",
   "execution_count": 1,
   "metadata": {},
   "outputs": [],
   "source": [
    "# below partition is using Hoare's algorithm\n",
    "def partition(arr, low, high):\n",
    "    pivot_value = arr[low]\n",
    "    i = low\n",
    "    j = high\n",
    "    \n",
    "    while i < j:\n",
    "        while i <= high and arr[i] <= pivot_value:\n",
    "            i += 1\n",
    "        while arr[j] > pivot_value:\n",
    "            j -= 1\n",
    "        if i < j:\n",
    "            #swap arr[i], arr[j]\n",
    "            arr[i], arr[j] = arr[j], arr[i]\n",
    "\n",
    "    arr[low] = arr[j]\n",
    "    arr[j] = pivot_value\n",
    "    \n",
    "    # return the pivot index\n",
    "    return j\n",
    "\n",
    "def quick_sort_rec(a, low, high):\n",
    "    if high > low:\n",
    "        pivot_index = partition(a, low, high)\n",
    "        quick_sort_rec(a, low, pivot_index -1)\n",
    "        quick_sort_rec(a, pivot_index +1, high)\n",
    "        \n",
    "def quick_sort(a):\n",
    "    quick_sort_rec(a, 0, len(a) - 1)\n",
    "    "
   ]
  },
  {
   "cell_type": "code",
   "execution_count": 2,
   "metadata": {},
   "outputs": [
    {
     "name": "stdout",
     "output_type": "stream",
     "text": [
      "Before Sorting\n",
      "[55, 23, 26, 2, 18, 78, 23, 8, 2, 3]\n",
      "After Sorting\n",
      "[2, 2, 3, 8, 18, 23, 23, 26, 55, 78]\n"
     ]
    }
   ],
   "source": [
    "a = [55, 23, 26, 2, 18, 78, 23, 8, 2, 3]\n",
    "\n",
    "print(\"Before Sorting\")\n",
    "print(a)\n",
    "\n",
    "quick_sort(a)\n",
    "\n",
    "print(\"After Sorting\")\n",
    "print(a)"
   ]
  },
  {
   "cell_type": "code",
   "execution_count": null,
   "metadata": {},
   "outputs": [],
   "source": []
  }
 ],
 "metadata": {
  "kernelspec": {
   "display_name": "Python 3",
   "language": "python",
   "name": "python3"
  },
  "language_info": {
   "codemirror_mode": {
    "name": "ipython",
    "version": 3
   },
   "file_extension": ".py",
   "mimetype": "text/x-python",
   "name": "python",
   "nbconvert_exporter": "python",
   "pygments_lexer": "ipython3",
   "version": "3.8.3"
  }
 },
 "nbformat": 4,
 "nbformat_minor": 4
}
