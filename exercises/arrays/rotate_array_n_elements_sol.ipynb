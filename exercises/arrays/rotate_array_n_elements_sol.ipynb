{
 "cells": [
  {
   "cell_type": "markdown",
   "metadata": {},
   "source": [
    "# Rotate an Array by N Elements - Solution\n",
    "\n",
    "Given an array of integers, rotate the array by 'N' elements.\n",
    " \n",
    "- For positive values of NN, perform a right rotation.\n",
    "- For negative values of NN, perform a left rotation.\n",
    "\n",
    "Make sure you make changes to the original array.\n"
   ]
  },
  {
   "cell_type": "markdown",
   "metadata": {},
   "source": [
    "### Example\n",
    "Let’s look at the original array below:\n",
    "\n",
    "![array](images/array_rotate_n_1.png)\n",
    "\n",
    "For N = −1 rotation of the original array, a left rotation is performed and the modified array looks like this:\n",
    "\n",
    "![array -1](images/array_rotate_n_2.png)\n",
    "\n",
    "For N = 2 rotation of the original array, a right rotation is performed and the modified array looks like this:\n",
    "\n",
    "![array 2](images/array_rotate_n_3.png)\n"
   ]
  },
  {
   "cell_type": "code",
   "execution_count": 1,
   "metadata": {},
   "outputs": [],
   "source": [
    "def rotate_array(arr, n):\n",
    "  #TODO: Write - Your - Code  \n",
    "  return -1"
   ]
  },
  {
   "cell_type": "code",
   "execution_count": null,
   "metadata": {},
   "outputs": [],
   "source": []
  }
 ],
 "metadata": {
  "kernelspec": {
   "display_name": "Python 3",
   "language": "python",
   "name": "python3"
  },
  "language_info": {
   "codemirror_mode": {
    "name": "ipython",
    "version": 3
   },
   "file_extension": ".py",
   "mimetype": "text/x-python",
   "name": "python",
   "nbconvert_exporter": "python",
   "pygments_lexer": "ipython3",
   "version": "3.8.3"
  }
 },
 "nbformat": 4,
 "nbformat_minor": 4
}
