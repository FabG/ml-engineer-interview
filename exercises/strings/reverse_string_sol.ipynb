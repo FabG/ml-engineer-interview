{
 "cells": [
  {
   "cell_type": "markdown",
   "metadata": {},
   "source": [
    "# Reverse Words in a Sentence\n",
    "\n",
    "Given a sentence (an array of characters), reverse the order of words.\n"
   ]
  },
  {
   "cell_type": "markdown",
   "metadata": {},
   "source": [
    "Reverse the order of words in a given sentence (an array of characters). Take the “Hello World” string for example:\n",
    "\n",
    "![string_original](images/string_original.png)\n",
    "\n",
    "Here’s another example:\n",
    "\n",
    "![string_reversed](images/string_reversed.png)\n"
   ]
  },
  {
   "cell_type": "markdown",
   "metadata": {},
   "source": [
    "## Solution 1 - leveraging list"
   ]
  },
  {
   "cell_type": "code",
   "execution_count": 36,
   "metadata": {},
   "outputs": [],
   "source": [
    "def reverse_words(sentence):    # sentence here is an array of characters\n",
    "    \n",
    "    # split the sentence in words\n",
    "    list_words = sentence.split(' ')\n",
    "    print(list_words)\n",
    "\n",
    "    # reverse the list and convert back to string\n",
    "    new_list_words = [ele for ele in reversed(list_words)]\n",
    "    print(new_list_words)\n",
    "    \n",
    "    # convert back to string\n",
    "    str1 = ''\n",
    "    for word in new_list_words:\n",
    "        str1 += word\n",
    "        str1 += ' '\n",
    "    print('|' + str1 + '|')\n",
    "    # remove trailing space\n",
    "    print('|' + str1.strip() + '|')\n",
    "    sentence = str1.strip()\n",
    "        \n",
    "    return sentence"
   ]
  },
  {
   "cell_type": "code",
   "execution_count": 37,
   "metadata": {},
   "outputs": [
    {
     "name": "stdout",
     "output_type": "stream",
     "text": [
      "['Hello', 'World!']\n",
      "['World!', 'Hello']\n",
      "|World! Hello |\n",
      "|World! Hello|\n"
     ]
    }
   ],
   "source": [
    "my_str = 'Hello World!'\n",
    "assert(reverse_words(my_str) == 'World! Hello')\n"
   ]
  },
  {
   "cell_type": "markdown",
   "metadata": {},
   "source": [
    "## Solution 2 / Need to update (not working)\n",
    "Runtime complexity\n",
    "\n",
    "The runtime complexity of this solution is linear, `O(n)`\n",
    "\n",
    "Position of all the elements in the sentence is changed.\n",
    "\n",
    "Memory complexity\n",
    "\n",
    "The memory complexity of this solution is constant, `O(1)`\n",
    "\n",
    "The solution reverses every word in-place i.e., it does not require any extra space.\n",
    "\n",
    "\n",
    "Here is how the solution works:\n",
    "\n",
    "Reverse the string.\n",
    "Traverse the string and reverse each word in place.\n",
    "Let’s apply this solution to our example:\n",
    "\n",
    "`“The quick brown fox jumped over the lazy dog.”.`\n",
    "\n",
    "Reverse the string:\n",
    "\n",
    "`“.god yzal eht revo depmuj xof nworb kciuq ehT”`\n",
    "\n",
    "Reverse each word in-place:\n",
    "\n",
    "`“dog. lazy the over jumped fox brown quick The”`\n"
   ]
  },
  {
   "cell_type": "code",
   "execution_count": 63,
   "metadata": {},
   "outputs": [],
   "source": [
    "def str_rev(str, start, end):\n",
    "    if str is None or len(str) < 2:\n",
    "        return\n",
    "\n",
    "    while start < end:\n",
    "        temp = str[start]\n",
    "        str[start] = str[end]\n",
    "        str[end] = temp\n",
    "\n",
    "        start += 1\n",
    "        end -= 1\n",
    "\n",
    "\n",
    "def reverse_words(sentence):\n",
    "\n",
    "    # Here sentence is a null-terminated string ending with char '\\0'.\n",
    "    if sentence is None or len(sentence) == 0:\n",
    "        return\n",
    "\n",
    "    #  To reverse all words in the string, we will first reverse\n",
    "    #  the string. Now all the words are in the desired location, but\n",
    "    #  in reverse order: \"Hello World\" -> \"dlroW olleH\".\n",
    "    str_len = len(sentence)\n",
    "    str_rev(sentence, 0, str_len - 1)\n",
    "\n",
    "    # Now, let's iterate the sentence and reverse each word in place.\n",
    "    # \"dlroW olleH\" -> \"World Hello\"\n",
    "    start = 0\n",
    "    end = 0\n",
    "\n",
    "    while True:\n",
    "\n",
    "        # find the  start index of a word while skipping spaces.\n",
    "        while start < len(sentence) and sentence[start] == ' ':\n",
    "            start += 1\n",
    "\n",
    "        if start == str_len:\n",
    "            break\n",
    "\n",
    "        # find the end index of the word.\n",
    "        end = start + 1\n",
    "        while end < str_len and sentence[end] != ' ':\n",
    "            end += 1\n",
    "\n",
    "        # let's reverse the word in-place.\n",
    "        str_rev(sentence, start, end - 1)\n",
    "        start = end\n",
    "    \n",
    "def get_array(t):\n",
    "    return t.split()\n",
    "\n",
    "def print_array(s):\n",
    "    i=0\n",
    "    while i != len(s):\n",
    "        print(s[i])\n",
    "        i += 1\n"
   ]
  },
  {
   "cell_type": "code",
   "execution_count": 64,
   "metadata": {},
   "outputs": [
    {
     "name": "stdout",
     "output_type": "stream",
     "text": [
      "Hello\n",
      "World!\n",
      "Hello\n",
      "World!\n"
     ]
    }
   ],
   "source": [
    "s = get_array('Hello World!')\n",
    "print_array(s)\n",
    "\n",
    "reverse_words(s)\n",
    "print_array(s)"
   ]
  },
  {
   "cell_type": "code",
   "execution_count": null,
   "metadata": {},
   "outputs": [],
   "source": []
  }
 ],
 "metadata": {
  "kernelspec": {
   "display_name": "Python 3",
   "language": "python",
   "name": "python3"
  },
  "language_info": {
   "codemirror_mode": {
    "name": "ipython",
    "version": 3
   },
   "file_extension": ".py",
   "mimetype": "text/x-python",
   "name": "python",
   "nbconvert_exporter": "python",
   "pygments_lexer": "ipython3",
   "version": "3.8.3"
  }
 },
 "nbformat": 4,
 "nbformat_minor": 4
}
